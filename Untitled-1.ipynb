{
 "cells": [
  {
   "cell_type": "code",
   "execution_count": 45,
   "metadata": {},
   "outputs": [],
   "source": [
    "import numpy as np"
   ]
  },
  {
   "cell_type": "code",
   "execution_count": 46,
   "metadata": {},
   "outputs": [
    {
     "name": "stdout",
     "output_type": "stream",
     "text": [
      "Det A:  17.336327587008874\n"
     ]
    }
   ],
   "source": [
    "np.random.seed(10)\n",
    "A = np.random.rand(10,10)*2\n",
    "U = np.random.rand(10)*2\n",
    "f = np.matmul(A,U)\n",
    "print('Det A: ',np.linalg.det(A))#Определитель не 0\n",
    "A = np.append(A,[A[0]+A[9], A[1]+A[8]],axis=0)# Дополним матрицу двумя новыми строками\n",
    "f = np.append(f,[f[0]+f[9], f[1]+f[8]])\n",
    "eps = 0.001\n",
    "A_ = A * (1 + np.random.uniform(-1,1)*eps)# пункт 5\n",
    "f_ = f * (1 + np.random.uniform(-1,1)*eps)\n",
    "sigma = np.linalg.norm(f_-f)\n",
    "h = np.linalg.norm(A_-A)"
   ]
  },
  {
   "cell_type": "markdown",
   "metadata": {},
   "source": [
    "$diff1 = \n",
    "\\frac{\\sum_{i=1}^{m} a_{ik} [\\sum_{j=1}^{n} a_{ij}u_{j} - f_i ] }\n",
    "{\\sqrt{\\sum_{i=1}^{m} [\\sum_{j=1}^{n} a_{ij}u_{j} - f_i ]^2}} + \n",
    "\\frac{h*u_k}\n",
    "{\\sqrt{\\sum_{j=1}^{n} u_{j}^2}}$\n",
    "\n",
    "$diff2 = \n",
    "\\Bigl(\\sum_{i=1}^{m} a_{ik} a_{iq} * \\sqrt{\\sum_{i=1}^{m} (\\sum_{j=1}^{n} a_{ij}u_{j} - f_{i})^{2}}-\n",
    "\\frac{(\\sum_{i=1}^{m} a_{iq}[\\sum_{j=1}^{n} a_{ij}u_{j}-f_{i}] )*(\\sum_{i=1}^{m} a_{ik}[\\sum_{j=1}^{n} a_{ij}u_{j}-f_{i}] )}\n",
    "{\\sqrt{\\sum_{i=1}^{m} (\\sum_{j=1}^{n} a_{ij}u_{j} - f_{i})^{2}}}\\Bigr)*\n",
    "\\frac{1}{\\sum_{i=1}^{m} (\\sum_{j=1}^{n} a_{ij}u_{j} - f_{i})^{2}}+\n",
    "\\frac{h}{\\sum_{j=1}^{n} u_{j}^2}*\n",
    "\\Bigl( \\delta_{k,q} * \\sqrt{\\sum_{j=1}^{n} u_{j}^2} - \\frac{u_{q}u_{k}}{\\sqrt{\\sum_{j=1}^{n}u_{j}^2}}\n",
    "\\Bigr)\n",
    "$"
   ]
  },
  {
   "cell_type": "code",
   "execution_count": 47,
   "metadata": {},
   "outputs": [],
   "source": [
    "def Newton(F, dF, x_prev, delta):\n",
    "    err = 1\n",
    "    x = np.zeros_like(x_prev)\n",
    "    iters = 0\n",
    "    while err > delta:\n",
    "        iters += 1\n",
    "        delta_x_prev = np.linalg.solve(dF(x_prev), -F(x_prev)).reshape(10, )\n",
    "        x = x_prev + delta_x_prev\n",
    "        err = np.linalg.norm(x - x_prev, ord=1)\n",
    "        print(err)\n",
    "        x_prev = x\n",
    "    return x\n",
    "\n",
    "\n",
    "def kron(q, i):\n",
    "    if q == i:\n",
    "        return 1\n",
    "    else:\n",
    "        return 0\n",
    "\n",
    "def diff1(m, n, k, h, a, v, f):\n",
    "    buff = np.zeros(5, float)\n",
    "    # 1 3\n",
    "    # 2 4\n",
    "    for i in range(m):\n",
    "        buff[0] = 0\n",
    "        for j in range(n):\n",
    "            buff[0] += a[i][j]*v[j]-f[i]\n",
    "        buff[1] += a[i][k] * buff[0]\n",
    "        buff[2] += np.power(buff[0], 2)\n",
    "\n",
    "    buff[2] = np.sqrt(buff[2])\n",
    "    buff[3] = h*v[k]\n",
    "    for j in range(n):\n",
    "        buff[4] += np.power(v[j], 2)\n",
    "    buff[4] = np.sqrt(buff[4])\n",
    "\n",
    "    return buff[1]/buff[2] + buff[3]/buff[4]\n",
    "\n",
    "\n",
    "def pdiff2(m, n, k, q, h, a, v, f):\n",
    "    buff = np.zeros(8, float)\n",
    "    #\n",
    "    # (0 * 2 - (3*4)/2 ) * \"1\"/5 + \"h\"/6 * ( \"kron(k,q)\" * 7 - \"u[q]*u[k]\"/7 )\n",
    "    #\n",
    "\n",
    "    for i in range(m):\n",
    "        buff[0] += a[i][k]*a[i][q]\n",
    "\n",
    "    for i in range(m):\n",
    "        buff[1] = 0\n",
    "        for j in range(n):\n",
    "            buff[1] += a[i][j]*v[j]-f[i]\n",
    "        buff[2] += np.power(buff[1], 2)\n",
    "        buff[3] += a[i][q] * buff[1]\n",
    "        buff[4] += a[i][k] * buff[1]\n",
    "\n",
    "    buff[5] = buff[2]\n",
    "    buff[2] = np.sqrt(buff[2])\n",
    "\n",
    "    for j in range(n):\n",
    "        buff[6] += np.power(v[j], 2)\n",
    "\n",
    "    buff[7] = np.sqrt(buff[6])\n",
    "\n",
    "    return (buff[0] * buff[2] - (buff[3]*buff[4])/buff[2]) / buff[5] + (h/buff[6]) * (kron(k, q)*buff[7] - v[q]*v[k]/buff[7])\n",
    "def diff2(m, n, k, q, h, a, u, f):\n",
    "    u_k = u[k]\n",
    "    p = np.zeros(4, float)\n",
    "\n",
    "    s = 0\n",
    "    p[0] = h / np.power(np.sum(np.square(u)),1./2.)\n",
    "\n",
    "    p[1] = h * u_k**2 / np.power(np.sum(np.square(u)),3./2.)\n",
    "\n",
    "    p[2] = np.sum(np.square(a[:][k])) / np.power(np.sum([np.square(a[i][j] * u[j] - f[i]) for j in range(n) for i in range(n)]), 1./2.)\n",
    "\n",
    "    p[3] = np.square(np.sum([a[i][k] * (a[i][j] * u[j] - f[i]) for j in range(n) for i in range(n)])) / np.power(np.sum([np.square(a[i][j] * u[j] - f[i]) for j in range(n) for i in range(n)]), 3./2.)\n",
    "    \n",
    "\n",
    "    return p[0] - p[1] + p[2] - p[3]\n",
    "def F(x):\n",
    "    return np.array([[diff1(12, 10, i, h, A_, x, f_)] for i in range(10)])\n",
    "\n",
    "def dF(x):\n",
    "    buff = []\n",
    "    for i in range(10):\n",
    "        buff2 = []\n",
    "        for j in range(10):\n",
    "            buff2.append([diff2(12, 10, i, j, h, A_, x, f_)])\n",
    "        buff.append(buff2)\n",
    "    return np.squeeze(np.array(buff))"
   ]
  },
  {
   "cell_type": "code",
   "execution_count": 48,
   "metadata": {},
   "outputs": [
    {
     "ename": "LinAlgError",
     "evalue": "Singular matrix",
     "output_type": "error",
     "traceback": [
      "\u001b[1;31m---------------------------------------------------------------------------\u001b[0m",
      "\u001b[1;31mLinAlgError\u001b[0m                               Traceback (most recent call last)",
      "\u001b[1;32md:\\Загрузки\\Untitled-1.ipynb Ячейка 5\u001b[0m in \u001b[0;36m<cell line: 2>\u001b[1;34m()\u001b[0m\n\u001b[0;32m      <a href='vscode-notebook-cell:/d%3A/%D0%97%D0%B0%D0%B3%D1%80%D1%83%D0%B7%D0%BA%D0%B8/Untitled-1.ipynb#W4sZmlsZQ%3D%3D?line=0'>1</a>\u001b[0m x_0 \u001b[39m=\u001b[39m np\u001b[39m.\u001b[39msqueeze(U)\n\u001b[1;32m----> <a href='vscode-notebook-cell:/d%3A/%D0%97%D0%B0%D0%B3%D1%80%D1%83%D0%B7%D0%BA%D0%B8/Untitled-1.ipynb#W4sZmlsZQ%3D%3D?line=1'>2</a>\u001b[0m answer \u001b[39m=\u001b[39m Newton(F, dF, x_0, \u001b[39m1e-2\u001b[39;49m)\n\u001b[0;32m      <a href='vscode-notebook-cell:/d%3A/%D0%97%D0%B0%D0%B3%D1%80%D1%83%D0%B7%D0%BA%D0%B8/Untitled-1.ipynb#W4sZmlsZQ%3D%3D?line=2'>3</a>\u001b[0m \u001b[39mprint\u001b[39m(answer)\n",
      "\u001b[1;32md:\\Загрузки\\Untitled-1.ipynb Ячейка 5\u001b[0m in \u001b[0;36mNewton\u001b[1;34m(F, dF, x_prev, delta)\u001b[0m\n\u001b[0;32m      <a href='vscode-notebook-cell:/d%3A/%D0%97%D0%B0%D0%B3%D1%80%D1%83%D0%B7%D0%BA%D0%B8/Untitled-1.ipynb#W4sZmlsZQ%3D%3D?line=4'>5</a>\u001b[0m \u001b[39mwhile\u001b[39;00m err \u001b[39m>\u001b[39m delta:\n\u001b[0;32m      <a href='vscode-notebook-cell:/d%3A/%D0%97%D0%B0%D0%B3%D1%80%D1%83%D0%B7%D0%BA%D0%B8/Untitled-1.ipynb#W4sZmlsZQ%3D%3D?line=5'>6</a>\u001b[0m     iters \u001b[39m+\u001b[39m\u001b[39m=\u001b[39m \u001b[39m1\u001b[39m\n\u001b[1;32m----> <a href='vscode-notebook-cell:/d%3A/%D0%97%D0%B0%D0%B3%D1%80%D1%83%D0%B7%D0%BA%D0%B8/Untitled-1.ipynb#W4sZmlsZQ%3D%3D?line=6'>7</a>\u001b[0m     delta_x_prev \u001b[39m=\u001b[39m np\u001b[39m.\u001b[39;49mlinalg\u001b[39m.\u001b[39;49msolve(dF(x_prev), \u001b[39m-\u001b[39;49mF(x_prev))\u001b[39m.\u001b[39mreshape(\u001b[39m10\u001b[39m, )\n\u001b[0;32m      <a href='vscode-notebook-cell:/d%3A/%D0%97%D0%B0%D0%B3%D1%80%D1%83%D0%B7%D0%BA%D0%B8/Untitled-1.ipynb#W4sZmlsZQ%3D%3D?line=7'>8</a>\u001b[0m     x \u001b[39m=\u001b[39m x_prev \u001b[39m+\u001b[39m delta_x_prev\n\u001b[0;32m      <a href='vscode-notebook-cell:/d%3A/%D0%97%D0%B0%D0%B3%D1%80%D1%83%D0%B7%D0%BA%D0%B8/Untitled-1.ipynb#W4sZmlsZQ%3D%3D?line=8'>9</a>\u001b[0m     err \u001b[39m=\u001b[39m np\u001b[39m.\u001b[39mlinalg\u001b[39m.\u001b[39mnorm(x \u001b[39m-\u001b[39m x_prev, \u001b[39mord\u001b[39m\u001b[39m=\u001b[39m\u001b[39m1\u001b[39m)\n",
      "File \u001b[1;32m<__array_function__ internals>:180\u001b[0m, in \u001b[0;36msolve\u001b[1;34m(*args, **kwargs)\u001b[0m\n",
      "File \u001b[1;32mc:\\Users\\Mr.Gilmanov\\AppData\\Local\\Programs\\Python\\Python310\\lib\\site-packages\\numpy\\linalg\\linalg.py:393\u001b[0m, in \u001b[0;36msolve\u001b[1;34m(a, b)\u001b[0m\n\u001b[0;32m    391\u001b[0m signature \u001b[39m=\u001b[39m \u001b[39m'\u001b[39m\u001b[39mDD->D\u001b[39m\u001b[39m'\u001b[39m \u001b[39mif\u001b[39;00m isComplexType(t) \u001b[39melse\u001b[39;00m \u001b[39m'\u001b[39m\u001b[39mdd->d\u001b[39m\u001b[39m'\u001b[39m\n\u001b[0;32m    392\u001b[0m extobj \u001b[39m=\u001b[39m get_linalg_error_extobj(_raise_linalgerror_singular)\n\u001b[1;32m--> 393\u001b[0m r \u001b[39m=\u001b[39m gufunc(a, b, signature\u001b[39m=\u001b[39;49msignature, extobj\u001b[39m=\u001b[39;49mextobj)\n\u001b[0;32m    395\u001b[0m \u001b[39mreturn\u001b[39;00m wrap(r\u001b[39m.\u001b[39mastype(result_t, copy\u001b[39m=\u001b[39m\u001b[39mFalse\u001b[39;00m))\n",
      "File \u001b[1;32mc:\\Users\\Mr.Gilmanov\\AppData\\Local\\Programs\\Python\\Python310\\lib\\site-packages\\numpy\\linalg\\linalg.py:88\u001b[0m, in \u001b[0;36m_raise_linalgerror_singular\u001b[1;34m(err, flag)\u001b[0m\n\u001b[0;32m     87\u001b[0m \u001b[39mdef\u001b[39;00m \u001b[39m_raise_linalgerror_singular\u001b[39m(err, flag):\n\u001b[1;32m---> 88\u001b[0m     \u001b[39mraise\u001b[39;00m LinAlgError(\u001b[39m\"\u001b[39m\u001b[39mSingular matrix\u001b[39m\u001b[39m\"\u001b[39m)\n",
      "\u001b[1;31mLinAlgError\u001b[0m: Singular matrix"
     ]
    }
   ],
   "source": [
    "x_0 = np.squeeze(U)\n",
    "answer = Newton(F, dF, x_0, 1e-2)\n",
    "print(answer)"
   ]
  }
 ],
 "metadata": {
  "kernelspec": {
   "display_name": "Python 3.10.4 64-bit",
   "language": "python",
   "name": "python3"
  },
  "language_info": {
   "codemirror_mode": {
    "name": "ipython",
    "version": 3
   },
   "file_extension": ".py",
   "mimetype": "text/x-python",
   "name": "python",
   "nbconvert_exporter": "python",
   "pygments_lexer": "ipython3",
   "version": "3.10.4"
  },
  "orig_nbformat": 4,
  "vscode": {
   "interpreter": {
    "hash": "d0285b281797fa82608498522facc0da92858e5280bcd0f7600cbac57d27ffee"
   }
  }
 },
 "nbformat": 4,
 "nbformat_minor": 2
}
